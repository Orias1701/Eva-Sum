{
 "cells": [
  {
   "cell_type": "code",
   "execution_count": 2,
   "id": "6bbe9839",
   "metadata": {},
   "outputs": [
    {
     "name": "stdout",
     "output_type": "stream",
     "text": [
      "Đã xuất kết quả ra file: output.json\n"
     ]
    }
   ],
   "source": [
    "import json\n",
    "import re\n",
    "\n",
    "def parse_txt_to_json_with_index(file_path, output_json_path):\n",
    "    with open(file_path, 'r', encoding='utf-8') as f:\n",
    "        content = f.read()\n",
    "    \n",
    "    blocks = content.split('----------')\n",
    "    result_list = []\n",
    "    counter = 1  # dùng để tạo Index dạng 5 chữ số\n",
    "\n",
    "    for block in blocks:\n",
    "        block = block.strip()\n",
    "        if not block:\n",
    "            continue\n",
    "\n",
    "        data = {}\n",
    "\n",
    "        # Lấy EVALUATING SUMMARY số thứ tự\n",
    "        eval_match = re.search(r'EVALUATING SUMMARY\\s*(\\d+)', block)\n",
    "        if eval_match:\n",
    "            data['Index'] = f\"{int(eval_match.group(1)):05d}\"\n",
    "        else:\n",
    "            data['Index'] = f\"{counter:05d}\"\n",
    "\n",
    "        # Lấy Article\n",
    "        article_match = re.search(r'Article:\\s*(.*?)(?=Summary:|$)', block, re.DOTALL)\n",
    "        if article_match:\n",
    "            data['Article'] = article_match.group(1).strip()\n",
    "\n",
    "        # Lấy Summary\n",
    "        summary_match = re.search(r'Summary:\\s*(.*?)(?=Result:|$)', block, re.DOTALL)\n",
    "        if summary_match:\n",
    "            data['Summary'] = summary_match.group(1).strip()\n",
    "\n",
    "        # Lấy Result / Raw result\n",
    "        raw_result_match = re.search(r'Raw result: ```json\\s*(\\{.*?\\})\\s*```', block, re.DOTALL)\n",
    "        if not raw_result_match:\n",
    "            raw_result_match = re.search(r'Result:\\s*(\\{.*\\})', block, re.DOTALL)\n",
    "        if raw_result_match:\n",
    "            try:\n",
    "                result_dict = eval(raw_result_match.group(1))\n",
    "                data['Result'] = result_dict\n",
    "            except:\n",
    "                data['Result'] = raw_result_match.group(1)\n",
    "\n",
    "        result_list.append(data)\n",
    "        counter += 1\n",
    "\n",
    "    # Xuất ra file JSON\n",
    "    with open(output_json_path, 'w', encoding='utf-8') as f_out:\n",
    "        json.dump(result_list, f_out, ensure_ascii=False, indent=4)\n",
    "\n",
    "    print(f\"Đã xuất kết quả ra file: {output_json_path}\")\n",
    "\n",
    "# Sử dụng\n",
    "input_file = \"data.txt\"\n",
    "output_file = \"output.json\"\n",
    "parse_txt_to_json_with_index(input_file, output_file)\n"
   ]
  }
 ],
 "metadata": {
  "kernelspec": {
   "display_name": "master",
   "language": "python",
   "name": "python3"
  },
  "language_info": {
   "codemirror_mode": {
    "name": "ipython",
    "version": 3
   },
   "file_extension": ".py",
   "mimetype": "text/x-python",
   "name": "python",
   "nbconvert_exporter": "python",
   "pygments_lexer": "ipython3",
   "version": "3.11.13"
  }
 },
 "nbformat": 4,
 "nbformat_minor": 5
}
