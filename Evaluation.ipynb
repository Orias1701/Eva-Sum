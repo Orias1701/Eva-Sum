{
 "cells": [
  {
   "cell_type": "code",
   "execution_count": null,
   "metadata": {},
   "outputs": [],
   "source": [
    "import os\n",
    "import google.generativeai as genai\n",
    "import pandas as pd\n",
    "import json\n",
    "from libraries.widget import build_ui\n",
    "\n",
    "widgets_dict = build_ui()"
   ]
  },
  {
   "cell_type": "code",
   "execution_count": null,
   "metadata": {},
   "outputs": [],
   "source": [
    "# --- Lấy giá trị từ widgets ---\n",
    "input_file   = widgets_dict[\"input_drop\"].value\n",
    "prompt_file  = widgets_dict[\"prompt_drop\"].value\n",
    "article_col  = widgets_dict[\"article_drop\"].value\n",
    "summary_col  = widgets_dict[\"summary_drop\"].value\n",
    "start_row    = widgets_dict[\"start_data\"].value\n",
    "end_row      = widgets_dict[\"end_data\"].value\n",
    "api_key      = widgets_dict[\"API_drop\"].value\n",
    "model_name   = widgets_dict[\"model_drop\"].value\n",
    "\n",
    "# --- Xử lý tên file và đường dẫn ---\n",
    "file_name    = os.path.splitext(input_file)[0]\n",
    "input_path   = f\"Unique/Evaluation/{file_name}.xlsx\"\n",
    "data         = pd.read_excel(input_path)\n",
    "prompt       = prompt_file\n",
    "\n",
    "# --- Xác định start và end row ---\n",
    "start = int(start_row) if start_row and start_row.isdigit() and int(start_row) > 1 else 1\n",
    "end   = int(end_row)   if end_row and end_row.isdigit() and int(end_row) > 1 else 1\n",
    "\n",
    "# --- Xác định đường dẫn output ---\n",
    "output_folder = f\"Outputs/Evaluation/{file_name}\"\n",
    "if end == start:\n",
    "    output_json = f\"{output_folder}/{file_name} {summary_col} {start:05} {model_name}.json\"\n",
    "    output_xlsx = f\"{output_folder}/{file_name} {summary_col} {start:05} {model_name}.xlsx\"\n",
    "else:\n",
    "    output_json = f\"{output_folder}/{file_name} {summary_col} {start:05}-{end:05} {model_name}.json\"\n",
    "    output_xlsx = f\"{output_folder}/{file_name} {summary_col} {start:05}-{end:05} {model_name}.xlsx\"\n",
    "\n",
    "# --- Đặt tên cột article và summary ---\n",
    "article_row = article_col if article_col else \"article\"\n",
    "summary_row = summary_col if summary_col else \"summary\"\n",
    "export_option = widgets_dict[\"export_drop\"].value\n",
    "\n",
    "GEMINI_API_KEY = api_key\n",
    "SCORER_ID = model_name\n",
    "genai.configure(api_key = GEMINI_API_KEY)\n",
    "\n",
    "# --- Hiển thị thông tin ---\n",
    "print(f\"API key: {api_key}\")\n",
    "print(f\"Model:   {model_name}\")\n",
    "print(f\"Input:   {file_name}\")\n",
    "print(f\"Article: {article_row}\")\n",
    "print(f\"Summary: {summary_row}\")\n",
    "print(f\"Output:  {file_name} {start:05} {model_name}\" if end == start else f\"Output:  {file_name} {start:05}-{end:05} {model_name}\")"
   ]
  },
  {
   "cell_type": "code",
   "execution_count": null,
   "metadata": {},
   "outputs": [],
   "source": [
    "from libraries.Processor import SummaryEvaluator\n",
    "\n",
    "config = {\n",
    "    \"api_key\": api_key,\n",
    "    \"model_name\": model_name,\n",
    "    \"file_name\": file_name,\n",
    "    \"input_path\": input_path,\n",
    "    \"output_json\": output_json,\n",
    "    \"output_xlsx\": output_xlsx,\n",
    "    \"article_row\": article_row,\n",
    "    \"summary_row\": summary_row,\n",
    "    \"start\": start,\n",
    "    \"end\": end,\n",
    "    \"prompt\": prompt,\n",
    "}"
   ]
  },
  {
   "cell_type": "code",
   "execution_count": null,
   "metadata": {},
   "outputs": [],
   "source": [
    "evaluator = SummaryEvaluator(config)\n",
    "results = evaluator.run()\n",
    "output_data = results"
   ]
  },
  {
   "cell_type": "markdown",
   "metadata": {},
   "source": [
    "EXPORT\n"
   ]
  },
  {
   "cell_type": "code",
   "execution_count": null,
   "metadata": {},
   "outputs": [],
   "source": [
    "\n",
    "output_dir = os.path.dirname(output_json)\n",
    "os.makedirs(output_dir, exist_ok=True)\n",
    "\n",
    "with open(output_json, \"w\", encoding=\"utf-8\") as json_file:\n",
    "    json.dump(output_data, json_file, ensure_ascii=False, indent=4, separators=(\",\", \": \"))\n",
    "\n",
    "print(f\"{output_json} saved successfully!\")"
   ]
  },
  {
   "cell_type": "code",
   "execution_count": null,
   "metadata": {},
   "outputs": [],
   "source": [
    "if export_option == \"YES\":\n",
    "    with open(output_json, 'r', encoding='utf-8') as file:\n",
    "        data = json.load(file)\n",
    "    df = pd.json_normalize(data)\n",
    "    df.to_excel(output_xlsx, index=False)\n",
    "    print(f\"{output_json} Reading...\")\n",
    "    print(f\"{output_xlsx} saved successfully!\")\n",
    "else:\n",
    "    print(\"Skip...\")"
   ]
  }
 ],
 "metadata": {
  "kernelspec": {
   "display_name": "master",
   "language": "python",
   "name": "python3"
  },
  "language_info": {
   "codemirror_mode": {
    "name": "ipython",
    "version": 3
   },
   "file_extension": ".py",
   "mimetype": "text/x-python",
   "name": "python",
   "nbconvert_exporter": "python",
   "pygments_lexer": "ipython3",
   "version": "3.11.13"
  }
 },
 "nbformat": 4,
 "nbformat_minor": 2
}
