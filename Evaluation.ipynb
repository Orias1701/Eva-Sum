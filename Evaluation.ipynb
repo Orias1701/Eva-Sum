{
 "cells": [
  {
   "cell_type": "code",
   "execution_count": null,
   "metadata": {},
   "outputs": [],
   "source": [
    "import os\n",
    "import google.generativeai as genai\n",
    "import pandas as pd\n",
    "import json\n",
    "import re\n",
    "import time\n",
    "from libraries.widget import build_ui, save_state, load_state\n",
    "\n",
    "widgets_dict = build_ui()"
   ]
  },
  {
   "cell_type": "markdown",
   "metadata": {},
   "source": [
    "PROMPT"
   ]
  },
  {
   "cell_type": "code",
   "execution_count": null,
   "metadata": {},
   "outputs": [],
   "source": [
    "# --- Lấy giá trị từ widgets ---\n",
    "input_file   = widgets_dict[\"input_drop\"].value\n",
    "prompt_file  = widgets_dict[\"prompt_drop\"].value\n",
    "article_col  = widgets_dict[\"article_drop\"].value\n",
    "summary_col  = widgets_dict[\"summary_drop\"].value\n",
    "start_row    = widgets_dict[\"start_data\"].value\n",
    "end_row      = widgets_dict[\"end_data\"].value\n",
    "api_key      = widgets_dict[\"API_drop\"].value\n",
    "model_name   = widgets_dict[\"model_drop\"].value\n",
    "\n",
    "# --- Xử lý tên file và đường dẫn ---\n",
    "file_name    = os.path.splitext(input_file)[0]\n",
    "input_path   = f\"Unique/Evaluation/{file_name}.xlsx\"\n",
    "data         = pd.read_excel(input_path)\n",
    "prompt       = prompt_file\n",
    "\n",
    "# --- Xác định start và end row ---\n",
    "start = int(start_row) if start_row and start_row.isdigit() and int(start_row) > 1 else 1\n",
    "end   = int(end_row)   if end_row and end_row.isdigit() and int(end_row) > 1 else 1\n",
    "\n",
    "# --- Xác định đường dẫn output ---\n",
    "output_folder = f\"Outputs/Evaluation/{file_name}\"\n",
    "if end == start:\n",
    "    output_json = f\"{output_folder}/{file_name} {start:05}.json\"\n",
    "    output_xlsx = f\"{output_folder}/{file_name} {start:05}.xlsx\"\n",
    "else:\n",
    "    output_json = f\"{output_folder}/{file_name} {start:05}-{end:05}.json\"\n",
    "    output_xlsx = f\"{output_folder}/{file_name} {start:05}-{end:05}.xlsx\"\n",
    "\n",
    "# --- Đặt tên cột article và summary ---\n",
    "article_row = article_col if article_col else \"article\"\n",
    "summary_row = summary_col if summary_col else \"summary\"\n",
    "export_option = widgets_dict[\"export_drop\"].value\n",
    "\n",
    "\n",
    "# --- Hiển thị thông tin ---\n",
    "print(f\"API key: {api_key}\")\n",
    "print(f\"Model:   {model_name}\")\n",
    "print(f\"Input:   {file_name}\")\n",
    "print(f\"Article: {article_row}\")\n",
    "print(f\"Summary: {summary_row}\")\n",
    "print(f\"Output:  {file_name} {start:05}\" if end == start else f\"Output:  {file_name} {start:05}-{end:05}\")"
   ]
  },
  {
   "cell_type": "markdown",
   "metadata": {},
   "source": [
    "AI MODEL\n"
   ]
  },
  {
   "cell_type": "code",
   "execution_count": null,
   "metadata": {},
   "outputs": [],
   "source": [
    "GEMINI_API_KEY = api_key\n",
    "SCORER_ID = model_name\n",
    "genai.configure(api_key = GEMINI_API_KEY)\n",
    "with open(f\"Prompts/{prompt}\", \"r\", encoding=\"utf-8\") as file:\n",
    "    evaluation_prompt = file.read()\n",
    "scorer_model = genai.GenerativeModel(SCORER_ID, system_instruction = evaluation_prompt)"
   ]
  },
  {
   "cell_type": "markdown",
   "metadata": {},
   "source": [
    "FUNCTIONS\n"
   ]
  },
  {
   "cell_type": "code",
   "execution_count": null,
   "metadata": {},
   "outputs": [],
   "source": [
    "def evaluate_summary(article, summary):\n",
    "    \n",
    "    user_prompt = f\"\"\"\n",
    "    Hãy đánh giá văn bản tóm tắt dưới đây dựa trên văn bản gốc được cung cấp:\n",
    "    Văn bản gốc:\n",
    "    {article}\n",
    "    \n",
    "    Văn bản tóm tắt:\n",
    "    {summary}\n",
    "    \"\"\"\n",
    "\n",
    "    overall_prompt = evaluation_prompt + \"\\n\" + user_prompt\n",
    "    \n",
    "    try:\n",
    "        response = scorer_model.generate_content(\n",
    "            overall_prompt,\n",
    "            generation_config=genai.GenerationConfig(\n",
    "                temperature=0.1,\n",
    "                top_p=0.9,\n",
    "                top_k=50          \n",
    "            ))\n",
    "        return response.text\n",
    "    \n",
    "    except Exception as e:\n",
    "            return None"
   ]
  },
  {
   "cell_type": "code",
   "execution_count": null,
   "metadata": {},
   "outputs": [],
   "source": [
    "def fix_nested_quotes(json_str):\n",
    "    def replace_nested_quotes(match):\n",
    "        key, value = match.groups()\n",
    "        fixed_value = value.strip()\n",
    "        \n",
    "        if fixed_value.startswith('\"') and fixed_value.endswith('\"'):\n",
    "            inner_content = fixed_value[1:-1]\n",
    "            if ('\\\\\"' not in inner_content and '\"' in inner_content) or ('\\\\\"' in inner_content and '\"' not in inner_content):\n",
    "                inner_content = inner_content.replace('\"', '\\\\\"')\n",
    "            fixed_value = f'\"{inner_content}\"'\n",
    "        \n",
    "        return f'{key}: {fixed_value}'\n",
    "    \n",
    "    json_str = re.sub(r'(\\\"[^\"]+\\\"): (.*?)(?=\\n|$)', replace_nested_quotes, json_str)\n",
    "    return json_str"
   ]
  },
  {
   "cell_type": "code",
   "execution_count": null,
   "metadata": {},
   "outputs": [],
   "source": [
    "def decode_fix(result, article, summary):\n",
    "    retries = 0\n",
    "    while retries < 3:\n",
    "        try:\n",
    "            json_match = re.search(r'```json\\n(\\{.*?\\})\\n```', result, flags=re.DOTALL)\n",
    "            json_str = json_match.group(1) if json_match else result.strip()\n",
    "            json_str = fix_nested_quotes(json_str)\n",
    "            \n",
    "            print(\"Attempt:\", retries + 1)\n",
    "            return json.loads(json_str)\n",
    "        except json.JSONDecodeError as e:\n",
    "            retries += 1\n",
    "            print(f\"Decode Error! Attempt: {retries} - {e}\")\n",
    "            result = evaluate_summary(article, summary)\n",
    "\n",
    "    print(\"Failed to decode JSON!\")\n",
    "    return json_str"
   ]
  },
  {
   "cell_type": "code",
   "execution_count": null,
   "metadata": {},
   "outputs": [],
   "source": [
    "def main(article_row, summary_row):\n",
    "    result_list = []\n",
    "    output_data = []\n",
    "\n",
    "    failSteak = 0\n",
    "\n",
    "    for index, row in data.iloc[start-1:end].iterrows():\n",
    "        print(f\"EVALUATING SUMMARY {index+1} ...\")\n",
    "        \n",
    "        article = row[article_row]\n",
    "        summary = row[summary_row]\n",
    "        \n",
    "        result = evaluate_summary(article, summary)\n",
    "        print(\"Raw result:\", result)\n",
    "        \n",
    "        attempt = 0\n",
    "        while result is None and attempt < 6:\n",
    "            attempt += 1\n",
    "            wait_time = 11 - attempt\n",
    "            print(f\"Attempt: {attempt}. {wait_time}s...\")\n",
    "            time.sleep(wait_time)\n",
    "            result = evaluate_summary(article, summary)\n",
    "            print(\"Raw result:\", result)\n",
    "            \n",
    "        if result is None:\n",
    "            print(f\"Summary {index+1} Failed to process. Skipping...\")\n",
    "            print(\"-\" * 10)\n",
    "            print(\"\\n\")\n",
    "            failSteak += 1\n",
    "            if failSteak >= 3:\n",
    "                break\n",
    "        else:\n",
    "            failSteak = 0\n",
    "            print(f\"Process successfully\")\n",
    "            result = re.sub(r'\\*', '', result)  \n",
    "            result_list.append(result)\n",
    "            decoded_result = decode_fix(result, article, summary)\n",
    "            decoded_result_str = json.dumps(decoded_result, ensure_ascii=False)\n",
    "            decoded_result_str = re.sub(r'\\s+', ' ', decoded_result_str).strip()\n",
    "            decoded_result = json.loads(decoded_result_str)\n",
    "            if decoded_result is None:\n",
    "                print(\"-\" * 10)\n",
    "                print(\"\\n\")\n",
    "            else:\n",
    "                print(f\"Article: {article}\")\n",
    "                print(f\"Summary: {summary}\")\n",
    "                print(f\"Result: {decoded_result}\")\n",
    "                print(\"-\" * 10)\n",
    "                print(\"\\n\")\n",
    "        \n",
    "        output_data.append({\n",
    "            \"Index\": f\"{index+1:05}\",\n",
    "            \"Article\": article,\n",
    "            \"Summary\": summary,\n",
    "            \"Result\": decoded_result\n",
    "        })\n",
    "        \n",
    "    output_dir = os.path.dirname(output_json)\n",
    "    os.makedirs(output_dir, exist_ok=True)\n",
    "\n",
    "    with open(output_json, \"w\", encoding=\"utf-8\") as json_file:\n",
    "        json.dump(output_data, json_file, ensure_ascii=False, indent=4, separators=(\",\", \": \"))\n",
    "\n",
    "    print(f\"{output_json} saved successfully!\")"
   ]
  },
  {
   "cell_type": "code",
   "execution_count": null,
   "metadata": {},
   "outputs": [],
   "source": [
    "summary_row = \"generated_summary\"\n",
    "main(article_row, summary_row)"
   ]
  },
  {
   "cell_type": "code",
   "execution_count": null,
   "metadata": {},
   "outputs": [],
   "source": [
    "# summary_row = \"reference_summary\"\n",
    "# main(article_row, summary_row)"
   ]
  },
  {
   "cell_type": "markdown",
   "metadata": {},
   "source": [
    "EXPORT\n"
   ]
  },
  {
   "cell_type": "code",
   "execution_count": null,
   "metadata": {},
   "outputs": [],
   "source": [
    "if export_option == \"YES\":\n",
    "    with open(output_json, 'r', encoding='utf-8') as file:\n",
    "        data = json.load(file)\n",
    "    df = pd.json_normalize(data)\n",
    "    df.to_excel(output_xlsx, index=False)\n",
    "    print(f\"{output_json} Reading...\")\n",
    "    print(f\"{output_xlsx} saved successfully!\")\n",
    "else:\n",
    "    print(\"Skip...\")"
   ]
  }
 ],
 "metadata": {
  "kernelspec": {
   "display_name": "master",
   "language": "python",
   "name": "python3"
  },
  "language_info": {
   "codemirror_mode": {
    "name": "ipython",
    "version": 3
   },
   "file_extension": ".py",
   "mimetype": "text/x-python",
   "name": "python",
   "nbconvert_exporter": "python",
   "pygments_lexer": "ipython3",
   "version": "3.11.13"
  }
 },
 "nbformat": 4,
 "nbformat_minor": 2
}
